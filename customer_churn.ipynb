{
 "cells": [
  {
   "cell_type": "markdown",
   "id": "35cac3d1-7042-467c-9be2-83ef3df45ec8",
   "metadata": {},
   "source": [
    "# Customer Churn Prediction"
   ]
  },
  {
   "cell_type": "markdown",
   "id": "6f6b9631-579a-42b0-94e3-1d2b2bde81f9",
   "metadata": {
    "jp-MarkdownHeadingCollapsed": true
   },
   "source": [
    "## Data Preparation and Feature Engineering"
   ]
  },
  {
   "cell_type": "markdown",
   "id": "c9300c49-d862-4672-adbb-c03daa532162",
   "metadata": {},
   "source": [
    "Import required libraries. "
   ]
  },
  {
   "cell_type": "code",
   "execution_count": null,
   "id": "92a3970c-8e27-48ca-b7d2-d1f5b9c9502e",
   "metadata": {},
   "outputs": [],
   "source": [
    "import pandas as pd\n",
    "import numpy as np\n",
    "\n",
    "from sklearn.model_selection import train_test_split, cross_val_score, GridSearchCV\n",
    "from sklearn.linear_model import LogisticRegression\n",
    "from sklearn.preprocessing import OneHotEncoder, LabelEncoder, StandardScaler\n",
    "from sklearn.metrics import accuracy_score, classification_report, confusion_matrix\n",
    "\n",
    "import joblib"
   ]
  },
  {
   "cell_type": "markdown",
   "id": "121883bf-5d0e-436f-b634-9103f1cafd42",
   "metadata": {},
   "source": [
    "Read and inspect data."
   ]
  },
  {
   "cell_type": "code",
   "execution_count": 156,
   "id": "0776df11-2136-422a-b7ff-e9abb784b1af",
   "metadata": {},
   "outputs": [
    {
     "name": "stdout",
     "output_type": "stream",
     "text": [
      "   customerID  gender  SeniorCitizen Partner Dependents  tenure PhoneService  \\\n",
      "0  7590-VHVEG  Female              0     Yes         No       1           No   \n",
      "1  5575-GNVDE    Male              0      No         No      34          Yes   \n",
      "2  3668-QPYBK    Male              0      No         No       2          Yes   \n",
      "3  7795-CFOCW    Male              0      No         No      45           No   \n",
      "4  9237-HQITU  Female              0      No         No       2          Yes   \n",
      "\n",
      "      MultipleLines InternetService OnlineSecurity  ... DeviceProtection  \\\n",
      "0  No phone service             DSL             No  ...               No   \n",
      "1                No             DSL            Yes  ...              Yes   \n",
      "2                No             DSL            Yes  ...               No   \n",
      "3  No phone service             DSL            Yes  ...              Yes   \n",
      "4                No     Fiber optic             No  ...               No   \n",
      "\n",
      "  TechSupport StreamingTV StreamingMovies        Contract PaperlessBilling  \\\n",
      "0          No          No              No  Month-to-month              Yes   \n",
      "1          No          No              No        One year               No   \n",
      "2          No          No              No  Month-to-month              Yes   \n",
      "3         Yes          No              No        One year               No   \n",
      "4          No          No              No  Month-to-month              Yes   \n",
      "\n",
      "               PaymentMethod MonthlyCharges  TotalCharges Churn  \n",
      "0           Electronic check          29.85         29.85    No  \n",
      "1               Mailed check          56.95        1889.5    No  \n",
      "2               Mailed check          53.85        108.15   Yes  \n",
      "3  Bank transfer (automatic)          42.30       1840.75    No  \n",
      "4           Electronic check          70.70        151.65   Yes  \n",
      "\n",
      "[5 rows x 21 columns]\n",
      "Index(['customerID', 'gender', 'SeniorCitizen', 'Partner', 'Dependents',\n",
      "       'tenure', 'PhoneService', 'MultipleLines', 'InternetService',\n",
      "       'OnlineSecurity', 'OnlineBackup', 'DeviceProtection', 'TechSupport',\n",
      "       'StreamingTV', 'StreamingMovies', 'Contract', 'PaperlessBilling',\n",
      "       'PaymentMethod', 'MonthlyCharges', 'TotalCharges', 'Churn'],\n",
      "      dtype='object')\n",
      "(7043, 21)\n"
     ]
    }
   ],
   "source": [
    "data = pd.read_csv(\"Telco-Customer-Churn.csv\")\n",
    "print(data.head())\n",
    "print(data.columns)\n",
    "print(data.shape)"
   ]
  },
  {
   "cell_type": "markdown",
   "id": "460e9158-9d82-4b1d-89d6-0da73a09a026",
   "metadata": {},
   "source": [
    "Find categorical features where there are 2 options for the label encoder. "
   ]
  },
  {
   "cell_type": "code",
   "execution_count": 157,
   "id": "7cac17b0-2f08-4b8c-9860-44c8eba43b45",
   "metadata": {},
   "outputs": [
    {
     "name": "stdout",
     "output_type": "stream",
     "text": [
      "['Female' 'Male']\n",
      "['Yes' 'No']\n",
      "['No' 'Yes']\n",
      "['No' 'Yes']\n",
      "['Yes' 'No']\n",
      "[0 1]\n"
     ]
    }
   ],
   "source": [
    "print(data[\"gender\"].unique())\n",
    "print(data[\"Partner\"].unique())\n",
    "print(data[\"Dependents\"].unique())\n",
    "print(data[\"PhoneService\"].unique())\n",
    "print(data[\"PaperlessBilling\"].unique())\n",
    "\n",
    "print(data[\"SeniorCitizen\"].unique())"
   ]
  },
  {
   "cell_type": "markdown",
   "id": "81bc72b4-f307-4c29-9a09-9715c51d63c9",
   "metadata": {},
   "source": [
    "TotalCharges feature is an object that has 11 ' ' (empty string values) in the dataset, therefore those 11 columns are omitted."
   ]
  },
  {
   "cell_type": "code",
   "execution_count": 158,
   "id": "8da21a89-5321-4e33-a11f-d282f92b9dc7",
   "metadata": {},
   "outputs": [
    {
     "name": "stdout",
     "output_type": "stream",
     "text": [
      "object\n"
     ]
    }
   ],
   "source": [
    "print(data[\"TotalCharges\"].dtype)"
   ]
  },
  {
   "cell_type": "code",
   "execution_count": 159,
   "id": "550d5a9f-9367-47ed-958c-a27f5987be36",
   "metadata": {},
   "outputs": [
    {
     "name": "stdout",
     "output_type": "stream",
     "text": [
      "11\n",
      "      customerID  gender  SeniorCitizen Partner Dependents  tenure  \\\n",
      "488   4472-LVYGI  Female              0     Yes        Yes       0   \n",
      "753   3115-CZMZD    Male              0      No        Yes       0   \n",
      "936   5709-LVOEQ  Female              0     Yes        Yes       0   \n",
      "1082  4367-NUYAO    Male              0     Yes        Yes       0   \n",
      "1340  1371-DWPAZ  Female              0     Yes        Yes       0   \n",
      "3331  7644-OMVMY    Male              0     Yes        Yes       0   \n",
      "3826  3213-VVOLG    Male              0     Yes        Yes       0   \n",
      "4380  2520-SGTTA  Female              0     Yes        Yes       0   \n",
      "5218  2923-ARZLG    Male              0     Yes        Yes       0   \n",
      "6670  4075-WKNIU  Female              0     Yes        Yes       0   \n",
      "6754  2775-SEFEE    Male              0      No        Yes       0   \n",
      "\n",
      "     PhoneService     MultipleLines InternetService       OnlineSecurity  ...  \\\n",
      "488            No  No phone service             DSL                  Yes  ...   \n",
      "753           Yes                No              No  No internet service  ...   \n",
      "936           Yes                No             DSL                  Yes  ...   \n",
      "1082          Yes               Yes              No  No internet service  ...   \n",
      "1340           No  No phone service             DSL                  Yes  ...   \n",
      "3331          Yes                No              No  No internet service  ...   \n",
      "3826          Yes               Yes              No  No internet service  ...   \n",
      "4380          Yes                No              No  No internet service  ...   \n",
      "5218          Yes                No              No  No internet service  ...   \n",
      "6670          Yes               Yes             DSL                   No  ...   \n",
      "6754          Yes               Yes             DSL                  Yes  ...   \n",
      "\n",
      "         DeviceProtection          TechSupport          StreamingTV  \\\n",
      "488                   Yes                  Yes                  Yes   \n",
      "753   No internet service  No internet service  No internet service   \n",
      "936                   Yes                   No                  Yes   \n",
      "1082  No internet service  No internet service  No internet service   \n",
      "1340                  Yes                  Yes                  Yes   \n",
      "3331  No internet service  No internet service  No internet service   \n",
      "3826  No internet service  No internet service  No internet service   \n",
      "4380  No internet service  No internet service  No internet service   \n",
      "5218  No internet service  No internet service  No internet service   \n",
      "6670                  Yes                  Yes                  Yes   \n",
      "6754                   No                  Yes                   No   \n",
      "\n",
      "          StreamingMovies  Contract PaperlessBilling  \\\n",
      "488                    No  Two year              Yes   \n",
      "753   No internet service  Two year               No   \n",
      "936                   Yes  Two year               No   \n",
      "1082  No internet service  Two year               No   \n",
      "1340                   No  Two year               No   \n",
      "3331  No internet service  Two year               No   \n",
      "3826  No internet service  Two year               No   \n",
      "4380  No internet service  Two year               No   \n",
      "5218  No internet service  One year              Yes   \n",
      "6670                   No  Two year               No   \n",
      "6754                   No  Two year              Yes   \n",
      "\n",
      "                  PaymentMethod MonthlyCharges  TotalCharges Churn  \n",
      "488   Bank transfer (automatic)          52.55                  No  \n",
      "753                Mailed check          20.25                  No  \n",
      "936                Mailed check          80.85                  No  \n",
      "1082               Mailed check          25.75                  No  \n",
      "1340    Credit card (automatic)          56.05                  No  \n",
      "3331               Mailed check          19.85                  No  \n",
      "3826               Mailed check          25.35                  No  \n",
      "4380               Mailed check          20.00                  No  \n",
      "5218               Mailed check          19.70                  No  \n",
      "6670               Mailed check          73.35                  No  \n",
      "6754  Bank transfer (automatic)          61.90                  No  \n",
      "\n",
      "[11 rows x 21 columns]\n"
     ]
    }
   ],
   "source": [
    "print((data[\"TotalCharges\"] == ' ').sum())\n",
    "print(data[data[\"TotalCharges\"] == \" \"])"
   ]
  },
  {
   "cell_type": "code",
   "execution_count": 160,
   "id": "7fdec1b1-3fe7-49e8-8d93-2e54ac91d1d9",
   "metadata": {},
   "outputs": [
    {
     "name": "stdout",
     "output_type": "stream",
     "text": [
      "0\n",
      "(7032, 21)\n"
     ]
    }
   ],
   "source": [
    "data = data.drop(data[data[\"TotalCharges\"] == \" \"].index)\n",
    "\n",
    "print((data[\"TotalCharges\"] == \" \").sum())\n",
    "print(data.shape)"
   ]
  },
  {
   "cell_type": "markdown",
   "id": "0cf87187-fad5-4732-9a26-6dcd73befbdc",
   "metadata": {},
   "source": [
    "Separate X and y from the data, drop customerID since it is not needed in the model. "
   ]
  },
  {
   "cell_type": "code",
   "execution_count": 161,
   "id": "eada866a-61b3-41ba-989a-902351865132",
   "metadata": {},
   "outputs": [],
   "source": [
    "X = data.drop(\"Churn\", axis=1)\n",
    "y = data[\"Churn\"]\n",
    "\n",
    "X = X.drop(\"customerID\", axis=1)"
   ]
  },
  {
   "cell_type": "markdown",
   "id": "a4a5d1d5-e186-4421-8075-e536eb26fdb6",
   "metadata": {},
   "source": [
    "For the categorical variables that have 2 options, map them to 0 and 1's by the label encoder."
   ]
  },
  {
   "cell_type": "code",
   "execution_count": 162,
   "id": "b4d2c248-9a92-4344-b347-b3f661d54d8b",
   "metadata": {},
   "outputs": [
    {
     "name": "stdout",
     "output_type": "stream",
     "text": [
      "   gender  SeniorCitizen  Partner  Dependents  tenure  PhoneService  \\\n",
      "0       0              0        1           0       1             0   \n",
      "1       1              0        0           0      34             1   \n",
      "2       1              0        0           0       2             1   \n",
      "3       1              0        0           0      45             0   \n",
      "4       0              0        0           0       2             1   \n",
      "\n",
      "      MultipleLines InternetService OnlineSecurity OnlineBackup  \\\n",
      "0  No phone service             DSL             No          Yes   \n",
      "1                No             DSL            Yes           No   \n",
      "2                No             DSL            Yes          Yes   \n",
      "3  No phone service             DSL            Yes           No   \n",
      "4                No     Fiber optic             No           No   \n",
      "\n",
      "  DeviceProtection TechSupport StreamingTV StreamingMovies        Contract  \\\n",
      "0               No          No          No              No  Month-to-month   \n",
      "1              Yes          No          No              No        One year   \n",
      "2               No          No          No              No  Month-to-month   \n",
      "3              Yes         Yes          No              No        One year   \n",
      "4               No          No          No              No  Month-to-month   \n",
      "\n",
      "   PaperlessBilling              PaymentMethod  MonthlyCharges TotalCharges  \n",
      "0                 1           Electronic check           29.85        29.85  \n",
      "1                 0               Mailed check           56.95       1889.5  \n",
      "2                 1               Mailed check           53.85       108.15  \n",
      "3                 0  Bank transfer (automatic)           42.30      1840.75  \n",
      "4                 1           Electronic check           70.70       151.65  \n"
     ]
    }
   ],
   "source": [
    "le = LabelEncoder()\n",
    "\n",
    "le_cols = [\"gender\", \"Partner\", \"Dependents\", \"PhoneService\", \"PaperlessBilling\"]\n",
    "\n",
    "for col in le_cols:\n",
    "    X[col] = le.fit_transform(X[col])\n",
    "\n",
    "print(X.head())"
   ]
  },
  {
   "cell_type": "markdown",
   "id": "ae6650a6-4e33-4ae8-8bdf-e512ded910a2",
   "metadata": {},
   "source": [
    "For the categorical features that have more than 2 options, use the one hot encoder to make those features processible."
   ]
  },
  {
   "cell_type": "code",
   "execution_count": 163,
   "id": "d28e3b13-1ebe-4182-9830-bbd897dd28ef",
   "metadata": {},
   "outputs": [
    {
     "name": "stdout",
     "output_type": "stream",
     "text": [
      "Index(['MultipleLines_No', 'MultipleLines_No phone service',\n",
      "       'MultipleLines_Yes', 'InternetService_DSL',\n",
      "       'InternetService_Fiber optic', 'InternetService_No',\n",
      "       'OnlineSecurity_No', 'OnlineSecurity_No internet service',\n",
      "       'OnlineSecurity_Yes', 'OnlineBackup_No',\n",
      "       'OnlineBackup_No internet service', 'OnlineBackup_Yes',\n",
      "       'DeviceProtection_No', 'DeviceProtection_No internet service',\n",
      "       'DeviceProtection_Yes', 'TechSupport_No',\n",
      "       'TechSupport_No internet service', 'TechSupport_Yes', 'StreamingTV_No',\n",
      "       'StreamingTV_No internet service', 'StreamingTV_Yes',\n",
      "       'StreamingMovies_No', 'StreamingMovies_No internet service',\n",
      "       'StreamingMovies_Yes', 'Contract_Month-to-month', 'Contract_One year',\n",
      "       'Contract_Two year', 'PaymentMethod_Bank transfer (automatic)',\n",
      "       'PaymentMethod_Credit card (automatic)',\n",
      "       'PaymentMethod_Electronic check', 'PaymentMethod_Mailed check'],\n",
      "      dtype='object')\n"
     ]
    }
   ],
   "source": [
    "ohe = OneHotEncoder(handle_unknown=\"ignore\", sparse_output=False).set_output(transform=\"pandas\")\n",
    " \n",
    "ohe_cols = [\"MultipleLines\", \"InternetService\", \"OnlineSecurity\", \"OnlineBackup\",\n",
    "           \"DeviceProtection\", \"TechSupport\", \"StreamingTV\", \"StreamingMovies\", \"Contract\", \"PaymentMethod\"]\n",
    "\n",
    "ohe_transformed = ohe.fit_transform(X[ohe_cols])\n",
    "\n",
    "print(ohe_transformed.columns)"
   ]
  },
  {
   "cell_type": "code",
   "execution_count": 164,
   "id": "c106ed56-025b-4ed1-a44c-286239afcbde",
   "metadata": {},
   "outputs": [
    {
     "name": "stdout",
     "output_type": "stream",
     "text": [
      "   gender  SeniorCitizen  Partner  Dependents  tenure  PhoneService  \\\n",
      "0       0              0        1           0       1             0   \n",
      "1       1              0        0           0      34             1   \n",
      "2       1              0        0           0       2             1   \n",
      "3       1              0        0           0      45             0   \n",
      "4       0              0        0           0       2             1   \n",
      "\n",
      "   PaperlessBilling  MonthlyCharges TotalCharges  MultipleLines_No  ...  \\\n",
      "0                 1           29.85        29.85               0.0  ...   \n",
      "1                 0           56.95       1889.5               1.0  ...   \n",
      "2                 1           53.85       108.15               1.0  ...   \n",
      "3                 0           42.30      1840.75               0.0  ...   \n",
      "4                 1           70.70       151.65               1.0  ...   \n",
      "\n",
      "   StreamingMovies_No  StreamingMovies_No internet service  \\\n",
      "0                 1.0                                  0.0   \n",
      "1                 1.0                                  0.0   \n",
      "2                 1.0                                  0.0   \n",
      "3                 1.0                                  0.0   \n",
      "4                 1.0                                  0.0   \n",
      "\n",
      "   StreamingMovies_Yes  Contract_Month-to-month  Contract_One year  \\\n",
      "0                  0.0                      1.0                0.0   \n",
      "1                  0.0                      0.0                1.0   \n",
      "2                  0.0                      1.0                0.0   \n",
      "3                  0.0                      0.0                1.0   \n",
      "4                  0.0                      1.0                0.0   \n",
      "\n",
      "   Contract_Two year  PaymentMethod_Bank transfer (automatic)  \\\n",
      "0                0.0                                      0.0   \n",
      "1                0.0                                      0.0   \n",
      "2                0.0                                      0.0   \n",
      "3                0.0                                      1.0   \n",
      "4                0.0                                      0.0   \n",
      "\n",
      "   PaymentMethod_Credit card (automatic)  PaymentMethod_Electronic check  \\\n",
      "0                                    0.0                             1.0   \n",
      "1                                    0.0                             0.0   \n",
      "2                                    0.0                             0.0   \n",
      "3                                    0.0                             0.0   \n",
      "4                                    0.0                             1.0   \n",
      "\n",
      "   PaymentMethod_Mailed check  \n",
      "0                         0.0  \n",
      "1                         1.0  \n",
      "2                         1.0  \n",
      "3                         0.0  \n",
      "4                         0.0  \n",
      "\n",
      "[5 rows x 40 columns]\n",
      "(7032, 40)\n",
      "Index(['gender', 'SeniorCitizen', 'Partner', 'Dependents', 'tenure',\n",
      "       'PhoneService', 'PaperlessBilling', 'MonthlyCharges', 'TotalCharges',\n",
      "       'MultipleLines_No', 'MultipleLines_No phone service',\n",
      "       'MultipleLines_Yes', 'InternetService_DSL',\n",
      "       'InternetService_Fiber optic', 'InternetService_No',\n",
      "       'OnlineSecurity_No', 'OnlineSecurity_No internet service',\n",
      "       'OnlineSecurity_Yes', 'OnlineBackup_No',\n",
      "       'OnlineBackup_No internet service', 'OnlineBackup_Yes',\n",
      "       'DeviceProtection_No', 'DeviceProtection_No internet service',\n",
      "       'DeviceProtection_Yes', 'TechSupport_No',\n",
      "       'TechSupport_No internet service', 'TechSupport_Yes', 'StreamingTV_No',\n",
      "       'StreamingTV_No internet service', 'StreamingTV_Yes',\n",
      "       'StreamingMovies_No', 'StreamingMovies_No internet service',\n",
      "       'StreamingMovies_Yes', 'Contract_Month-to-month', 'Contract_One year',\n",
      "       'Contract_Two year', 'PaymentMethod_Bank transfer (automatic)',\n",
      "       'PaymentMethod_Credit card (automatic)',\n",
      "       'PaymentMethod_Electronic check', 'PaymentMethod_Mailed check'],\n",
      "      dtype='object')\n"
     ]
    }
   ],
   "source": [
    "X_for_model = pd.concat([X, ohe_transformed], axis=1).drop(columns = ohe_cols)\n",
    "\n",
    "print(X_for_model.head())\n",
    "print(X_for_model.shape)\n",
    "print(X_for_model.columns)"
   ]
  },
  {
   "cell_type": "code",
   "execution_count": 165,
   "id": "993a4cf8-fc0e-40b3-b1a0-36ff2d786d92",
   "metadata": {},
   "outputs": [
    {
     "name": "stdout",
     "output_type": "stream",
     "text": [
      "[0 0 1 ... 0 1 0]\n",
      "7032\n"
     ]
    }
   ],
   "source": [
    "y_for_model = le.fit_transform(y)\n",
    "\n",
    "print(y_for_model)\n",
    "print(y_for_model.size)"
   ]
  },
  {
   "cell_type": "markdown",
   "id": "9263595f-685a-4484-8d5d-97f6eeba2c65",
   "metadata": {},
   "source": [
    "Split the data as train and standardize the data to ensure the convergence for the model."
   ]
  },
  {
   "cell_type": "code",
   "execution_count": 166,
   "id": "6b0c2ab6-12aa-44b3-8bd4-53d2e788dddd",
   "metadata": {},
   "outputs": [
    {
     "name": "stdout",
     "output_type": "stream",
     "text": [
      "(7032, 40) (7032,) (5625, 40) (1407, 40) (5625,) (1407,)\n"
     ]
    }
   ],
   "source": [
    "X_train, X_test, y_train, y_test = train_test_split(X_for_model, y_for_model, test_size=0.2, random_state=42)\n",
    "\n",
    "print(X_for_model.shape, y_for_model.shape, X_train.shape, X_test.shape, y_train.shape, y_test.shape)"
   ]
  },
  {
   "cell_type": "code",
   "execution_count": 167,
   "id": "7e6720d8-69d0-4103-8320-afd252fa9dc0",
   "metadata": {},
   "outputs": [],
   "source": [
    "scaler = StandardScaler()\n",
    "\n",
    "X_train_scaled = scaler.fit_transform(X_train)\n",
    "X_test_scaled = scaler.transform(X_test)"
   ]
  },
  {
   "cell_type": "markdown",
   "id": "82ed5d10-c215-48a8-8d85-f7b63b3487ea",
   "metadata": {},
   "source": [
    "## Logistic Regression Model "
   ]
  },
  {
   "cell_type": "code",
   "execution_count": 168,
   "id": "61f5383c-e2ad-432b-b1a8-bd86f7c1654c",
   "metadata": {},
   "outputs": [
    {
     "data": {
      "text/html": [
       "<style>#sk-container-id-5 {\n",
       "  /* Definition of color scheme common for light and dark mode */\n",
       "  --sklearn-color-text: black;\n",
       "  --sklearn-color-line: gray;\n",
       "  /* Definition of color scheme for unfitted estimators */\n",
       "  --sklearn-color-unfitted-level-0: #fff5e6;\n",
       "  --sklearn-color-unfitted-level-1: #f6e4d2;\n",
       "  --sklearn-color-unfitted-level-2: #ffe0b3;\n",
       "  --sklearn-color-unfitted-level-3: chocolate;\n",
       "  /* Definition of color scheme for fitted estimators */\n",
       "  --sklearn-color-fitted-level-0: #f0f8ff;\n",
       "  --sklearn-color-fitted-level-1: #d4ebff;\n",
       "  --sklearn-color-fitted-level-2: #b3dbfd;\n",
       "  --sklearn-color-fitted-level-3: cornflowerblue;\n",
       "\n",
       "  /* Specific color for light theme */\n",
       "  --sklearn-color-text-on-default-background: var(--sg-text-color, var(--theme-code-foreground, var(--jp-content-font-color1, black)));\n",
       "  --sklearn-color-background: var(--sg-background-color, var(--theme-background, var(--jp-layout-color0, white)));\n",
       "  --sklearn-color-border-box: var(--sg-text-color, var(--theme-code-foreground, var(--jp-content-font-color1, black)));\n",
       "  --sklearn-color-icon: #696969;\n",
       "\n",
       "  @media (prefers-color-scheme: dark) {\n",
       "    /* Redefinition of color scheme for dark theme */\n",
       "    --sklearn-color-text-on-default-background: var(--sg-text-color, var(--theme-code-foreground, var(--jp-content-font-color1, white)));\n",
       "    --sklearn-color-background: var(--sg-background-color, var(--theme-background, var(--jp-layout-color0, #111)));\n",
       "    --sklearn-color-border-box: var(--sg-text-color, var(--theme-code-foreground, var(--jp-content-font-color1, white)));\n",
       "    --sklearn-color-icon: #878787;\n",
       "  }\n",
       "}\n",
       "\n",
       "#sk-container-id-5 {\n",
       "  color: var(--sklearn-color-text);\n",
       "}\n",
       "\n",
       "#sk-container-id-5 pre {\n",
       "  padding: 0;\n",
       "}\n",
       "\n",
       "#sk-container-id-5 input.sk-hidden--visually {\n",
       "  border: 0;\n",
       "  clip: rect(1px 1px 1px 1px);\n",
       "  clip: rect(1px, 1px, 1px, 1px);\n",
       "  height: 1px;\n",
       "  margin: -1px;\n",
       "  overflow: hidden;\n",
       "  padding: 0;\n",
       "  position: absolute;\n",
       "  width: 1px;\n",
       "}\n",
       "\n",
       "#sk-container-id-5 div.sk-dashed-wrapped {\n",
       "  border: 1px dashed var(--sklearn-color-line);\n",
       "  margin: 0 0.4em 0.5em 0.4em;\n",
       "  box-sizing: border-box;\n",
       "  padding-bottom: 0.4em;\n",
       "  background-color: var(--sklearn-color-background);\n",
       "}\n",
       "\n",
       "#sk-container-id-5 div.sk-container {\n",
       "  /* jupyter's `normalize.less` sets `[hidden] { display: none; }`\n",
       "     but bootstrap.min.css set `[hidden] { display: none !important; }`\n",
       "     so we also need the `!important` here to be able to override the\n",
       "     default hidden behavior on the sphinx rendered scikit-learn.org.\n",
       "     See: https://github.com/scikit-learn/scikit-learn/issues/21755 */\n",
       "  display: inline-block !important;\n",
       "  position: relative;\n",
       "}\n",
       "\n",
       "#sk-container-id-5 div.sk-text-repr-fallback {\n",
       "  display: none;\n",
       "}\n",
       "\n",
       "div.sk-parallel-item,\n",
       "div.sk-serial,\n",
       "div.sk-item {\n",
       "  /* draw centered vertical line to link estimators */\n",
       "  background-image: linear-gradient(var(--sklearn-color-text-on-default-background), var(--sklearn-color-text-on-default-background));\n",
       "  background-size: 2px 100%;\n",
       "  background-repeat: no-repeat;\n",
       "  background-position: center center;\n",
       "}\n",
       "\n",
       "/* Parallel-specific style estimator block */\n",
       "\n",
       "#sk-container-id-5 div.sk-parallel-item::after {\n",
       "  content: \"\";\n",
       "  width: 100%;\n",
       "  border-bottom: 2px solid var(--sklearn-color-text-on-default-background);\n",
       "  flex-grow: 1;\n",
       "}\n",
       "\n",
       "#sk-container-id-5 div.sk-parallel {\n",
       "  display: flex;\n",
       "  align-items: stretch;\n",
       "  justify-content: center;\n",
       "  background-color: var(--sklearn-color-background);\n",
       "  position: relative;\n",
       "}\n",
       "\n",
       "#sk-container-id-5 div.sk-parallel-item {\n",
       "  display: flex;\n",
       "  flex-direction: column;\n",
       "}\n",
       "\n",
       "#sk-container-id-5 div.sk-parallel-item:first-child::after {\n",
       "  align-self: flex-end;\n",
       "  width: 50%;\n",
       "}\n",
       "\n",
       "#sk-container-id-5 div.sk-parallel-item:last-child::after {\n",
       "  align-self: flex-start;\n",
       "  width: 50%;\n",
       "}\n",
       "\n",
       "#sk-container-id-5 div.sk-parallel-item:only-child::after {\n",
       "  width: 0;\n",
       "}\n",
       "\n",
       "/* Serial-specific style estimator block */\n",
       "\n",
       "#sk-container-id-5 div.sk-serial {\n",
       "  display: flex;\n",
       "  flex-direction: column;\n",
       "  align-items: center;\n",
       "  background-color: var(--sklearn-color-background);\n",
       "  padding-right: 1em;\n",
       "  padding-left: 1em;\n",
       "}\n",
       "\n",
       "\n",
       "/* Toggleable style: style used for estimator/Pipeline/ColumnTransformer box that is\n",
       "clickable and can be expanded/collapsed.\n",
       "- Pipeline and ColumnTransformer use this feature and define the default style\n",
       "- Estimators will overwrite some part of the style using the `sk-estimator` class\n",
       "*/\n",
       "\n",
       "/* Pipeline and ColumnTransformer style (default) */\n",
       "\n",
       "#sk-container-id-5 div.sk-toggleable {\n",
       "  /* Default theme specific background. It is overwritten whether we have a\n",
       "  specific estimator or a Pipeline/ColumnTransformer */\n",
       "  background-color: var(--sklearn-color-background);\n",
       "}\n",
       "\n",
       "/* Toggleable label */\n",
       "#sk-container-id-5 label.sk-toggleable__label {\n",
       "  cursor: pointer;\n",
       "  display: block;\n",
       "  width: 100%;\n",
       "  margin-bottom: 0;\n",
       "  padding: 0.5em;\n",
       "  box-sizing: border-box;\n",
       "  text-align: center;\n",
       "}\n",
       "\n",
       "#sk-container-id-5 label.sk-toggleable__label-arrow:before {\n",
       "  /* Arrow on the left of the label */\n",
       "  content: \"▸\";\n",
       "  float: left;\n",
       "  margin-right: 0.25em;\n",
       "  color: var(--sklearn-color-icon);\n",
       "}\n",
       "\n",
       "#sk-container-id-5 label.sk-toggleable__label-arrow:hover:before {\n",
       "  color: var(--sklearn-color-text);\n",
       "}\n",
       "\n",
       "/* Toggleable content - dropdown */\n",
       "\n",
       "#sk-container-id-5 div.sk-toggleable__content {\n",
       "  max-height: 0;\n",
       "  max-width: 0;\n",
       "  overflow: hidden;\n",
       "  text-align: left;\n",
       "  /* unfitted */\n",
       "  background-color: var(--sklearn-color-unfitted-level-0);\n",
       "}\n",
       "\n",
       "#sk-container-id-5 div.sk-toggleable__content.fitted {\n",
       "  /* fitted */\n",
       "  background-color: var(--sklearn-color-fitted-level-0);\n",
       "}\n",
       "\n",
       "#sk-container-id-5 div.sk-toggleable__content pre {\n",
       "  margin: 0.2em;\n",
       "  border-radius: 0.25em;\n",
       "  color: var(--sklearn-color-text);\n",
       "  /* unfitted */\n",
       "  background-color: var(--sklearn-color-unfitted-level-0);\n",
       "}\n",
       "\n",
       "#sk-container-id-5 div.sk-toggleable__content.fitted pre {\n",
       "  /* unfitted */\n",
       "  background-color: var(--sklearn-color-fitted-level-0);\n",
       "}\n",
       "\n",
       "#sk-container-id-5 input.sk-toggleable__control:checked~div.sk-toggleable__content {\n",
       "  /* Expand drop-down */\n",
       "  max-height: 200px;\n",
       "  max-width: 100%;\n",
       "  overflow: auto;\n",
       "}\n",
       "\n",
       "#sk-container-id-5 input.sk-toggleable__control:checked~label.sk-toggleable__label-arrow:before {\n",
       "  content: \"▾\";\n",
       "}\n",
       "\n",
       "/* Pipeline/ColumnTransformer-specific style */\n",
       "\n",
       "#sk-container-id-5 div.sk-label input.sk-toggleable__control:checked~label.sk-toggleable__label {\n",
       "  color: var(--sklearn-color-text);\n",
       "  background-color: var(--sklearn-color-unfitted-level-2);\n",
       "}\n",
       "\n",
       "#sk-container-id-5 div.sk-label.fitted input.sk-toggleable__control:checked~label.sk-toggleable__label {\n",
       "  background-color: var(--sklearn-color-fitted-level-2);\n",
       "}\n",
       "\n",
       "/* Estimator-specific style */\n",
       "\n",
       "/* Colorize estimator box */\n",
       "#sk-container-id-5 div.sk-estimator input.sk-toggleable__control:checked~label.sk-toggleable__label {\n",
       "  /* unfitted */\n",
       "  background-color: var(--sklearn-color-unfitted-level-2);\n",
       "}\n",
       "\n",
       "#sk-container-id-5 div.sk-estimator.fitted input.sk-toggleable__control:checked~label.sk-toggleable__label {\n",
       "  /* fitted */\n",
       "  background-color: var(--sklearn-color-fitted-level-2);\n",
       "}\n",
       "\n",
       "#sk-container-id-5 div.sk-label label.sk-toggleable__label,\n",
       "#sk-container-id-5 div.sk-label label {\n",
       "  /* The background is the default theme color */\n",
       "  color: var(--sklearn-color-text-on-default-background);\n",
       "}\n",
       "\n",
       "/* On hover, darken the color of the background */\n",
       "#sk-container-id-5 div.sk-label:hover label.sk-toggleable__label {\n",
       "  color: var(--sklearn-color-text);\n",
       "  background-color: var(--sklearn-color-unfitted-level-2);\n",
       "}\n",
       "\n",
       "/* Label box, darken color on hover, fitted */\n",
       "#sk-container-id-5 div.sk-label.fitted:hover label.sk-toggleable__label.fitted {\n",
       "  color: var(--sklearn-color-text);\n",
       "  background-color: var(--sklearn-color-fitted-level-2);\n",
       "}\n",
       "\n",
       "/* Estimator label */\n",
       "\n",
       "#sk-container-id-5 div.sk-label label {\n",
       "  font-family: monospace;\n",
       "  font-weight: bold;\n",
       "  display: inline-block;\n",
       "  line-height: 1.2em;\n",
       "}\n",
       "\n",
       "#sk-container-id-5 div.sk-label-container {\n",
       "  text-align: center;\n",
       "}\n",
       "\n",
       "/* Estimator-specific */\n",
       "#sk-container-id-5 div.sk-estimator {\n",
       "  font-family: monospace;\n",
       "  border: 1px dotted var(--sklearn-color-border-box);\n",
       "  border-radius: 0.25em;\n",
       "  box-sizing: border-box;\n",
       "  margin-bottom: 0.5em;\n",
       "  /* unfitted */\n",
       "  background-color: var(--sklearn-color-unfitted-level-0);\n",
       "}\n",
       "\n",
       "#sk-container-id-5 div.sk-estimator.fitted {\n",
       "  /* fitted */\n",
       "  background-color: var(--sklearn-color-fitted-level-0);\n",
       "}\n",
       "\n",
       "/* on hover */\n",
       "#sk-container-id-5 div.sk-estimator:hover {\n",
       "  /* unfitted */\n",
       "  background-color: var(--sklearn-color-unfitted-level-2);\n",
       "}\n",
       "\n",
       "#sk-container-id-5 div.sk-estimator.fitted:hover {\n",
       "  /* fitted */\n",
       "  background-color: var(--sklearn-color-fitted-level-2);\n",
       "}\n",
       "\n",
       "/* Specification for estimator info (e.g. \"i\" and \"?\") */\n",
       "\n",
       "/* Common style for \"i\" and \"?\" */\n",
       "\n",
       ".sk-estimator-doc-link,\n",
       "a:link.sk-estimator-doc-link,\n",
       "a:visited.sk-estimator-doc-link {\n",
       "  float: right;\n",
       "  font-size: smaller;\n",
       "  line-height: 1em;\n",
       "  font-family: monospace;\n",
       "  background-color: var(--sklearn-color-background);\n",
       "  border-radius: 1em;\n",
       "  height: 1em;\n",
       "  width: 1em;\n",
       "  text-decoration: none !important;\n",
       "  margin-left: 1ex;\n",
       "  /* unfitted */\n",
       "  border: var(--sklearn-color-unfitted-level-1) 1pt solid;\n",
       "  color: var(--sklearn-color-unfitted-level-1);\n",
       "}\n",
       "\n",
       ".sk-estimator-doc-link.fitted,\n",
       "a:link.sk-estimator-doc-link.fitted,\n",
       "a:visited.sk-estimator-doc-link.fitted {\n",
       "  /* fitted */\n",
       "  border: var(--sklearn-color-fitted-level-1) 1pt solid;\n",
       "  color: var(--sklearn-color-fitted-level-1);\n",
       "}\n",
       "\n",
       "/* On hover */\n",
       "div.sk-estimator:hover .sk-estimator-doc-link:hover,\n",
       ".sk-estimator-doc-link:hover,\n",
       "div.sk-label-container:hover .sk-estimator-doc-link:hover,\n",
       ".sk-estimator-doc-link:hover {\n",
       "  /* unfitted */\n",
       "  background-color: var(--sklearn-color-unfitted-level-3);\n",
       "  color: var(--sklearn-color-background);\n",
       "  text-decoration: none;\n",
       "}\n",
       "\n",
       "div.sk-estimator.fitted:hover .sk-estimator-doc-link.fitted:hover,\n",
       ".sk-estimator-doc-link.fitted:hover,\n",
       "div.sk-label-container:hover .sk-estimator-doc-link.fitted:hover,\n",
       ".sk-estimator-doc-link.fitted:hover {\n",
       "  /* fitted */\n",
       "  background-color: var(--sklearn-color-fitted-level-3);\n",
       "  color: var(--sklearn-color-background);\n",
       "  text-decoration: none;\n",
       "}\n",
       "\n",
       "/* Span, style for the box shown on hovering the info icon */\n",
       ".sk-estimator-doc-link span {\n",
       "  display: none;\n",
       "  z-index: 9999;\n",
       "  position: relative;\n",
       "  font-weight: normal;\n",
       "  right: .2ex;\n",
       "  padding: .5ex;\n",
       "  margin: .5ex;\n",
       "  width: min-content;\n",
       "  min-width: 20ex;\n",
       "  max-width: 50ex;\n",
       "  color: var(--sklearn-color-text);\n",
       "  box-shadow: 2pt 2pt 4pt #999;\n",
       "  /* unfitted */\n",
       "  background: var(--sklearn-color-unfitted-level-0);\n",
       "  border: .5pt solid var(--sklearn-color-unfitted-level-3);\n",
       "}\n",
       "\n",
       ".sk-estimator-doc-link.fitted span {\n",
       "  /* fitted */\n",
       "  background: var(--sklearn-color-fitted-level-0);\n",
       "  border: var(--sklearn-color-fitted-level-3);\n",
       "}\n",
       "\n",
       ".sk-estimator-doc-link:hover span {\n",
       "  display: block;\n",
       "}\n",
       "\n",
       "/* \"?\"-specific style due to the `<a>` HTML tag */\n",
       "\n",
       "#sk-container-id-5 a.estimator_doc_link {\n",
       "  float: right;\n",
       "  font-size: 1rem;\n",
       "  line-height: 1em;\n",
       "  font-family: monospace;\n",
       "  background-color: var(--sklearn-color-background);\n",
       "  border-radius: 1rem;\n",
       "  height: 1rem;\n",
       "  width: 1rem;\n",
       "  text-decoration: none;\n",
       "  /* unfitted */\n",
       "  color: var(--sklearn-color-unfitted-level-1);\n",
       "  border: var(--sklearn-color-unfitted-level-1) 1pt solid;\n",
       "}\n",
       "\n",
       "#sk-container-id-5 a.estimator_doc_link.fitted {\n",
       "  /* fitted */\n",
       "  border: var(--sklearn-color-fitted-level-1) 1pt solid;\n",
       "  color: var(--sklearn-color-fitted-level-1);\n",
       "}\n",
       "\n",
       "/* On hover */\n",
       "#sk-container-id-5 a.estimator_doc_link:hover {\n",
       "  /* unfitted */\n",
       "  background-color: var(--sklearn-color-unfitted-level-3);\n",
       "  color: var(--sklearn-color-background);\n",
       "  text-decoration: none;\n",
       "}\n",
       "\n",
       "#sk-container-id-5 a.estimator_doc_link.fitted:hover {\n",
       "  /* fitted */\n",
       "  background-color: var(--sklearn-color-fitted-level-3);\n",
       "}\n",
       "</style><div id=\"sk-container-id-5\" class=\"sk-top-container\"><div class=\"sk-text-repr-fallback\"><pre>LogisticRegression()</pre><b>In a Jupyter environment, please rerun this cell to show the HTML representation or trust the notebook. <br />On GitHub, the HTML representation is unable to render, please try loading this page with nbviewer.org.</b></div><div class=\"sk-container\" hidden><div class=\"sk-item\"><div class=\"sk-estimator fitted sk-toggleable\"><input class=\"sk-toggleable__control sk-hidden--visually\" id=\"sk-estimator-id-5\" type=\"checkbox\" checked><label for=\"sk-estimator-id-5\" class=\"sk-toggleable__label fitted sk-toggleable__label-arrow fitted\">&nbsp;&nbsp;LogisticRegression<a class=\"sk-estimator-doc-link fitted\" rel=\"noreferrer\" target=\"_blank\" href=\"https://scikit-learn.org/1.4/modules/generated/sklearn.linear_model.LogisticRegression.html\">?<span>Documentation for LogisticRegression</span></a><span class=\"sk-estimator-doc-link fitted\">i<span>Fitted</span></span></label><div class=\"sk-toggleable__content fitted\"><pre>LogisticRegression()</pre></div> </div></div></div></div>"
      ],
      "text/plain": [
       "LogisticRegression()"
      ]
     },
     "execution_count": 168,
     "metadata": {},
     "output_type": "execute_result"
    }
   ],
   "source": [
    "lr_model = LogisticRegression()\n",
    "\n",
    "lr_model.fit(X_train_scaled, y_train)"
   ]
  },
  {
   "cell_type": "code",
   "execution_count": 169,
   "id": "7d3531ef-7875-41a7-9dc1-81c87d934d2b",
   "metadata": {},
   "outputs": [
    {
     "name": "stdout",
     "output_type": "stream",
     "text": [
      "Test set accuracy: 0.7867803837953091\n"
     ]
    }
   ],
   "source": [
    "accuracy = lr_model.score(X_test_scaled, y_test)\n",
    "\n",
    "print(f\"Test set accuracy: {accuracy}\")"
   ]
  },
  {
   "cell_type": "code",
   "execution_count": 170,
   "id": "95ee43c6-e372-47be-9660-d11b4c6c82f0",
   "metadata": {},
   "outputs": [
    {
     "name": "stdout",
     "output_type": "stream",
     "text": [
      "(7032, 40)\n",
      "(7032,)\n"
     ]
    }
   ],
   "source": [
    "X_combined = np.vstack([X_train_scaled, X_test_scaled])\n",
    "y_combined = np.hstack([y_train, y_test])\n",
    "\n",
    "print(X_combined.shape)\n",
    "print(y_combined.shape)"
   ]
  },
  {
   "cell_type": "markdown",
   "id": "b3a65ac4-e438-4cf9-969f-5a3d3ba578f2",
   "metadata": {},
   "source": [
    "Check the cross validation scores for the default model."
   ]
  },
  {
   "cell_type": "code",
   "execution_count": 171,
   "id": "4700f201-cf46-4bca-9e30-6e665445907e",
   "metadata": {},
   "outputs": [
    {
     "name": "stdout",
     "output_type": "stream",
     "text": [
      "Cross Validation scores: [0.81449893 0.78891258 0.79943101 0.82432432 0.78662873]\n",
      "Mean Cross Validation Accuracy: 0.80276\n"
     ]
    }
   ],
   "source": [
    "cv_scores = cross_val_score(lr_model, X_combined, y_combined, cv=5, scoring=\"accuracy\")\n",
    "print(f\"Cross Validation scores: {cv_scores}\")\n",
    "print(f\"Mean Cross Validation Accuracy: {cv_scores.mean():.5f}\")"
   ]
  },
  {
   "cell_type": "markdown",
   "id": "faed61af-8755-4f4a-afab-227d2fb36d40",
   "metadata": {},
   "source": [
    "Use a grid search to find the best configurations for the Logistic Regression model."
   ]
  },
  {
   "cell_type": "code",
   "execution_count": 172,
   "id": "6582db2a-f656-45f0-8b4f-536364ab9028",
   "metadata": {},
   "outputs": [
    {
     "name": "stdout",
     "output_type": "stream",
     "text": [
      "Best Parameters: {'C': 100, 'max_iter': 200, 'solver': 'saga'}\n",
      "Best Cross-Validation Score: 0.80447\n"
     ]
    }
   ],
   "source": [
    "parameter_grid = {\n",
    "    'C': [0.01, 0.1, 1, 10, 100],\n",
    "    'solver': ['lbfgs', 'saga'],  \n",
    "    'max_iter': [100, 200, 500]     \n",
    "} \n",
    "\n",
    "grid_search = GridSearchCV(lr_model, parameter_grid, cv=5, scoring=\"accuracy\", n_jobs=-1)\n",
    "grid_search.fit(X_combined, y_combined)\n",
    "\n",
    "print(f\"Best Parameters: {grid_search.best_params_}\")\n",
    "print(f\"Best Cross-Validation Score: {grid_search.best_score_:.5f}\")"
   ]
  },
  {
   "cell_type": "markdown",
   "id": "d07dfa67-7058-44d9-b648-7369e0840ca4",
   "metadata": {},
   "source": [
    "Test the best model that is determined from the grid search in test data."
   ]
  },
  {
   "cell_type": "code",
   "execution_count": 173,
   "id": "4adc80aa-8821-4603-ad79-2495b71b237b",
   "metadata": {},
   "outputs": [
    {
     "name": "stdout",
     "output_type": "stream",
     "text": [
      "Best Model Test Set Accuracy: 0.79033\n"
     ]
    }
   ],
   "source": [
    "best_model = grid_search.best_estimator_\n",
    "\n",
    "y_pred = best_model.predict(X_test_scaled)\n",
    "\n",
    "bm_test_accuracy = accuracy_score(y_test, y_pred)\n",
    "print(f\"Best Model Test Set Accuracy: {bm_test_accuracy:.5f}\")"
   ]
  },
  {
   "cell_type": "markdown",
   "id": "c017f900-3ce2-4f52-984f-2e1b83a6c630",
   "metadata": {},
   "source": [
    "Evaluate and report the results from the Logistic Regression model, and save the best model found. "
   ]
  },
  {
   "cell_type": "code",
   "execution_count": 174,
   "id": "6e51bb27-0ea9-45f6-b3ef-6e9f26e6a634",
   "metadata": {},
   "outputs": [
    {
     "name": "stdout",
     "output_type": "stream",
     "text": [
      "\n",
      "Classification Report:\n",
      "              precision    recall  f1-score   support\n",
      "\n",
      "           0       0.84      0.89      0.86      1033\n",
      "           1       0.63      0.52      0.57       374\n",
      "\n",
      "    accuracy                           0.79      1407\n",
      "   macro avg       0.73      0.70      0.71      1407\n",
      "weighted avg       0.78      0.79      0.78      1407\n",
      "\n"
     ]
    }
   ],
   "source": [
    "print(\"\\nClassification Report:\")\n",
    "print(classification_report(y_test, y_pred))"
   ]
  },
  {
   "cell_type": "code",
   "execution_count": 175,
   "id": "7e5da552-3da7-4c90-bbb9-259e39a242fb",
   "metadata": {},
   "outputs": [
    {
     "name": "stdout",
     "output_type": "stream",
     "text": [
      "\n",
      "Confusion Matrix:\n",
      "[[919 114]\n",
      " [181 193]]\n"
     ]
    }
   ],
   "source": [
    "print(\"\\nConfusion Matrix:\")\n",
    "print(confusion_matrix(y_test, y_pred))"
   ]
  },
  {
   "cell_type": "code",
   "execution_count": 176,
   "id": "990382ef-c439-45af-8e33-5bdab8d296b5",
   "metadata": {},
   "outputs": [
    {
     "data": {
      "text/plain": [
       "['logistic_regression_model.pkl']"
      ]
     },
     "execution_count": 176,
     "metadata": {},
     "output_type": "execute_result"
    }
   ],
   "source": [
    "joblib.dump(best_model, 'logistic_regression_model.pkl')"
   ]
  }
 ],
 "metadata": {
  "kernelspec": {
   "display_name": "Python 3 (ipykernel)",
   "language": "python",
   "name": "python3"
  },
  "language_info": {
   "codemirror_mode": {
    "name": "ipython",
    "version": 3
   },
   "file_extension": ".py",
   "mimetype": "text/x-python",
   "name": "python",
   "nbconvert_exporter": "python",
   "pygments_lexer": "ipython3",
   "version": "3.12.4"
  }
 },
 "nbformat": 4,
 "nbformat_minor": 5
}
