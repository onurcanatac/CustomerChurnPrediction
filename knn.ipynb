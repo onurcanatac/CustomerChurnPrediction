{
 "cells": [
  {
   "cell_type": "code",
   "execution_count": 33,
   "id": "b77f1252-bdf7-4d01-8d24-e7aa76869699",
   "metadata": {},
   "outputs": [],
   "source": [
    "import pandas as pd\n",
    "import numpy as np\n",
    "\n",
    "from sklearn.neighbors import KNeighborsClassifier\n",
    "from sklearn.metrics import accuracy_score, classification_report, confusion_matrix\n",
    "from sklearn.model_selection import GridSearchCV\n",
    "\n",
    "import joblib"
   ]
  },
  {
   "cell_type": "code",
   "execution_count": 34,
   "id": "46683765-c89f-444d-acc0-9f45f248d46f",
   "metadata": {},
   "outputs": [
    {
     "name": "stdout",
     "output_type": "stream",
     "text": [
      "(5625, 40)\n",
      "(1407, 40)\n",
      "(5625,)\n",
      "(1407,)\n"
     ]
    }
   ],
   "source": [
    "X_train = pd.read_csv(\"X_train_scaled.csv\")\n",
    "X_test = pd.read_csv(\"X_test_scaled.csv\")\n",
    "\n",
    "y_train = pd.read_csv(\"y_train.csv\")\n",
    "y_test = pd.read_csv(\"y_test.csv\")\n",
    "\n",
    "y_train = y_train.squeeze().to_numpy()\n",
    "y_test = y_test.squeeze().to_numpy()\n",
    "\n",
    "print(X_train.shape)\n",
    "print(X_test.shape)\n",
    "print(y_train.shape)\n",
    "print(y_test.shape)"
   ]
  },
  {
   "cell_type": "code",
   "execution_count": 35,
   "id": "27d86bdb-2c61-4eb7-a528-7a39000706f7",
   "metadata": {},
   "outputs": [
    {
     "name": "stdout",
     "output_type": "stream",
     "text": [
      "Default KNN accuracy: 0.7547974413646056\n"
     ]
    }
   ],
   "source": [
    "knn = KNeighborsClassifier(n_neighbors=5)\n",
    "\n",
    "knn.fit(X_train, y_train)\n",
    "\n",
    "knn_y_pred = knn.predict(X_test)\n",
    "\n",
    "knn_acc = accuracy_score(y_test, knn_y_pred)\n",
    "print(f\"Default KNN accuracy: {knn_acc}\")"
   ]
  },
  {
   "cell_type": "code",
   "execution_count": 36,
   "id": "c95ceed9-fae3-44e6-83b8-7b8f96492c11",
   "metadata": {},
   "outputs": [
    {
     "name": "stdout",
     "output_type": "stream",
     "text": [
      "Best model: {'algorithm': 'kd_tree', 'n_neighbors': 9, 'p': 1, 'weights': 'uniform'}\n",
      "Best CV Score: 0.7767111111111111\n"
     ]
    }
   ],
   "source": [
    "parameter_grid = {\n",
    "    'n_neighbors': [3, 5, 7, 9],            \n",
    "    'weights': ['uniform', 'distance'],      \n",
    "    'p': [1, 2],                             \n",
    "    'algorithm': ['auto', 'ball_tree', 'kd_tree', 'brute'] \n",
    "}\n",
    "\n",
    "grid_search = GridSearchCV(knn, param_grid=parameter_grid, cv=5, scoring=\"accuracy\", n_jobs=-1)\n",
    "\n",
    "grid_search.fit(X_train, y_train)\n",
    "\n",
    "print(f\"Best model: {grid_search.best_params_}\")\n",
    "print(f\"Best CV Score: {grid_search.best_score_}\")"
   ]
  },
  {
   "cell_type": "code",
   "execution_count": 37,
   "id": "d83a2347-cd4d-4528-bb72-8b88365512ad",
   "metadata": {},
   "outputs": [
    {
     "name": "stdout",
     "output_type": "stream",
     "text": [
      "Best KNN model test data accuracy: 0.7555081734186212\n"
     ]
    }
   ],
   "source": [
    "best_model = grid_search.best_estimator_\n",
    "\n",
    "best_y_pred = best_model.predict(X_test)\n",
    "\n",
    "best_acc = accuracy_score(y_test, best_y_pred)\n",
    "print(f\"Best KNN model test data accuracy: {best_acc}\")"
   ]
  },
  {
   "cell_type": "code",
   "execution_count": 38,
   "id": "f150d6c9-86a5-4da3-a215-5a481ce6dfee",
   "metadata": {},
   "outputs": [
    {
     "name": "stdout",
     "output_type": "stream",
     "text": [
      "\n",
      "Classification Report (Best Model):\n",
      "              precision    recall  f1-score   support\n",
      "\n",
      "           0       0.83      0.83      0.83      1033\n",
      "           1       0.54      0.54      0.54       374\n",
      "\n",
      "    accuracy                           0.76      1407\n",
      "   macro avg       0.69      0.69      0.69      1407\n",
      "weighted avg       0.76      0.76      0.76      1407\n",
      "\n"
     ]
    }
   ],
   "source": [
    "print(\"\\nClassification Report (Best Model):\")\n",
    "print(classification_report(y_test, best_y_pred))"
   ]
  },
  {
   "cell_type": "code",
   "execution_count": 39,
   "id": "b93e825b-fd33-4ff4-9cdb-b2096ef326a1",
   "metadata": {},
   "outputs": [
    {
     "name": "stdout",
     "output_type": "stream",
     "text": [
      "\n",
      "Confusion Matrix (Best Model):\n",
      "[[860 173]\n",
      " [171 203]]\n"
     ]
    }
   ],
   "source": [
    "print(\"\\nConfusion Matrix (Best Model):\")\n",
    "print(confusion_matrix(y_test, best_y_pred))"
   ]
  },
  {
   "cell_type": "code",
   "execution_count": 40,
   "id": "4cebec92-50f5-4c74-986b-b7a88ef985bf",
   "metadata": {},
   "outputs": [
    {
     "data": {
      "text/plain": [
       "['knearest_neigbors_model.pkl']"
      ]
     },
     "execution_count": 40,
     "metadata": {},
     "output_type": "execute_result"
    }
   ],
   "source": [
    "joblib.dump(best_model, 'knearest_neigbors_model.pkl')"
   ]
  }
 ],
 "metadata": {
  "kernelspec": {
   "display_name": "Python 3 (ipykernel)",
   "language": "python",
   "name": "python3"
  },
  "language_info": {
   "codemirror_mode": {
    "name": "ipython",
    "version": 3
   },
   "file_extension": ".py",
   "mimetype": "text/x-python",
   "name": "python",
   "nbconvert_exporter": "python",
   "pygments_lexer": "ipython3",
   "version": "3.12.4"
  }
 },
 "nbformat": 4,
 "nbformat_minor": 5
}
