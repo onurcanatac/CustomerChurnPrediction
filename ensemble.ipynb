{
 "cells": [
  {
   "cell_type": "code",
   "execution_count": 91,
   "id": "0c32d77a-df8c-4b5b-a149-eccebc483250",
   "metadata": {},
   "outputs": [],
   "source": [
    "import pandas as pd\n",
    "import numpy as np\n",
    "\n",
    "from sklearn.ensemble import VotingClassifier\n",
    "from sklearn.metrics import accuracy_score\n",
    "\n",
    "import joblib"
   ]
  },
  {
   "cell_type": "code",
   "execution_count": 92,
   "id": "7c1c97c1-a1d0-4a06-9bf8-9dd7e406ad85",
   "metadata": {},
   "outputs": [],
   "source": [
    "import warnings\n",
    "warnings.filterwarnings(\"ignore\", message=\"X has feature names\")"
   ]
  },
  {
   "cell_type": "code",
   "execution_count": 93,
   "id": "e28498de-73d3-45e0-8155-cbe7fb278ff5",
   "metadata": {},
   "outputs": [
    {
     "name": "stdout",
     "output_type": "stream",
     "text": [
      "(5625, 40)\n",
      "(1407, 40)\n",
      "(5625,)\n",
      "(1407,)\n"
     ]
    }
   ],
   "source": [
    "X_train = pd.read_csv(\"X_train_scaled.csv\")\n",
    "X_test = pd.read_csv(\"X_test_scaled.csv\")\n",
    "\n",
    "y_train = pd.read_csv(\"y_train.csv\")\n",
    "y_test = pd.read_csv(\"y_test.csv\")\n",
    "\n",
    "y_train = y_train.squeeze().to_numpy()\n",
    "y_test = y_test.squeeze().to_numpy()\n",
    "\n",
    "print(X_train.shape)\n",
    "print(X_test.shape)\n",
    "print(y_train.shape)\n",
    "print(y_test.shape)"
   ]
  },
  {
   "cell_type": "code",
   "execution_count": 94,
   "id": "66d5b6b1-db09-4a95-b8e6-cacbf8a1888f",
   "metadata": {},
   "outputs": [],
   "source": [
    "log_reg = joblib.load(\"logistic_regression_model.pkl\")\n",
    "dec_tree = joblib.load(\"decision_tree_model.pkl\")\n",
    "rand_for = joblib.load(\"random_forest_model.pkl\")\n",
    "knn = joblib.load(\"knearest_neigbors_model.pkl\")"
   ]
  },
  {
   "cell_type": "code",
   "execution_count": 95,
   "id": "328b711f-f1dc-4e0e-9d48-1d95adfed1ba",
   "metadata": {},
   "outputs": [
    {
     "name": "stdout",
     "output_type": "stream",
     "text": [
      "Ensemble Accuracy: 0.7910447761194029\n"
     ]
    }
   ],
   "source": [
    "voting_classifier = VotingClassifier(\n",
    "    estimators = [('lr', log_reg),('dt', dec_tree),('rf', rand_for),('knn', knn)], voting='soft'\n",
    ")\n",
    "\n",
    "voting_classifier.fit(X_train, y_train)\n",
    "\n",
    "y_pred = voting_classifier.predict(X_test)\n",
    "\n",
    "acc = accuracy_score(y_test, y_pred)\n",
    "print(f\"Ensemble Accuracy: {acc}\")"
   ]
  },
  {
   "cell_type": "code",
   "execution_count": 96,
   "id": "6941780c-a4cf-46e7-a0eb-3663b7cabb44",
   "metadata": {},
   "outputs": [
    {
     "name": "stdout",
     "output_type": "stream",
     "text": [
      "Logistic Regression Accuracy: 0.79033\n",
      "Decision Tree Accuracy: 0.77328\n",
      "Random Forest Accuracy: 0.79318\n",
      "KNN Accuracy: 0.75551\n"
     ]
    }
   ],
   "source": [
    "models = [log_reg, dec_tree, rand_for, knn]\n",
    "model_names = [\"Logistic Regression\", \"Decision Tree\", \"Random Forest\", \"KNN\"]\n",
    "\n",
    "for model, name in zip(models, model_names):\n",
    "    y_pred = model.predict(X_test)\n",
    "    acc = accuracy_score(y_test, y_pred)\n",
    "    print(f\"{name} Accuracy: {acc:.5f}\")"
   ]
  },
  {
   "cell_type": "code",
   "execution_count": 104,
   "id": "99c22e97-0253-4dd4-a3fa-542d99b166bb",
   "metadata": {},
   "outputs": [
    {
     "data": {
      "text/plain": [
       "['voting_classifier.pkl']"
      ]
     },
     "execution_count": 104,
     "metadata": {},
     "output_type": "execute_result"
    }
   ],
   "source": [
    "joblib.dump(voting_classifier, \"voting_classifier.pkl\")"
   ]
  }
 ],
 "metadata": {
  "kernelspec": {
   "display_name": "Python 3 (ipykernel)",
   "language": "python",
   "name": "python3"
  },
  "language_info": {
   "codemirror_mode": {
    "name": "ipython",
    "version": 3
   },
   "file_extension": ".py",
   "mimetype": "text/x-python",
   "name": "python",
   "nbconvert_exporter": "python",
   "pygments_lexer": "ipython3",
   "version": "3.12.4"
  }
 },
 "nbformat": 4,
 "nbformat_minor": 5
}
